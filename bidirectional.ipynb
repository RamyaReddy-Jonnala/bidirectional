{
 "cells": [
  {
   "cell_type": "code",
   "execution_count": 3,
   "id": "6c9c67c4-fe5a-4031-b6b9-b6e54fe4df5a",
   "metadata": {},
   "outputs": [
    {
     "name": "stdout",
     "output_type": "stream",
     "text": [
      "Path found: None\n"
     ]
    }
   ],
   "source": [
    "from collections import deque\n",
    "def bidirectional_search(graph, start, target):\n",
    "    if start == target:\n",
    "        return [start]\n",
    "    queue_f = deque([start])\n",
    "    queue_b = deque([target])\n",
    "    visited_f = {start: None}\n",
    "    visited_b = {target: None}\n",
    "    def combine_paths(node):\n",
    "        path = []\n",
    "        while node:\n",
    "            path.append(node)\n",
    "            node = visited_f[node]\n",
    "        path = path[::-1]\n",
    "        node = visited_b[path[-1]]\n",
    "        while node:\n",
    "            path.append(node)\n",
    "            node = visited_b[node]\n",
    "        return path\n",
    "    while queue_f and queue_b:\n",
    "        current_f = queue_f.popleft()\n",
    "        for neighbor in graph[current_f]:\n",
    "            if neighbor not in visited_f:\n",
    "                visited_f[neighbor] = current_f\n",
    "                queue_f.append(neighbor)\n",
    "            if neighbor in visited_b:\n",
    "                return combine_paths(neighbor)\n",
    "        current_b = queue_b.popleft()\n",
    "        for neighbor in graph[current_b]:\n",
    "            if neighbor not in visited_b:\n",
    "                visited_b[neighbor] = current_b\n",
    "                queue_b.append(neighbor)\n",
    "            if neighbor in visited_f:\n",
    "                return combine_paths(neighbor)\n",
    "    return None\n",
    "path = bidirectional_search(graph, 'S', 'T')\n",
    "print(f\"Path found: {path}\")"
   ]
  },
  {
   "cell_type": "code",
   "execution_count": null,
   "id": "eb75ade8-d8df-44ea-bc2e-927eb48ae216",
   "metadata": {},
   "outputs": [],
   "source": []
  }
 ],
 "metadata": {
  "kernelspec": {
   "display_name": "Python 3 (ipykernel)",
   "language": "python",
   "name": "python3"
  },
  "language_info": {
   "codemirror_mode": {
    "name": "ipython",
    "version": 3
   },
   "file_extension": ".py",
   "mimetype": "text/x-python",
   "name": "python",
   "nbconvert_exporter": "python",
   "pygments_lexer": "ipython3",
   "version": "3.12.4"
  }
 },
 "nbformat": 4,
 "nbformat_minor": 5
}
